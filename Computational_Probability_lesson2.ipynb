{
  "nbformat": 4,
  "nbformat_minor": 0,
  "metadata": {
    "colab": {
      "provenance": [],
      "collapsed_sections": [],
      "authorship_tag": "ABX9TyMOSZ1I6bBIWeg6PPBaHKE0",
      "include_colab_link": true
    },
    "kernelspec": {
      "name": "python3",
      "display_name": "Python 3"
    },
    "language_info": {
      "name": "python"
    }
  },
  "cells": [
    {
      "cell_type": "markdown",
      "metadata": {
        "id": "view-in-github",
        "colab_type": "text"
      },
      "source": [
        "<a href=\"https://colab.research.google.com/github/sijuswamy/AI-for-Assumption/blob/main/Computational_Probability_lesson2.ipynb\" target=\"_parent\"><img src=\"https://colab.research.google.com/assets/colab-badge.svg\" alt=\"Open In Colab\"/></a>"
      ]
    },
    {
      "cell_type": "markdown",
      "metadata": {
        "id": "sBkQ2d0nePvG"
      },
      "source": [
        "# Probability for Machine Learning\n",
        "\n",
        "In fact, the underlying principle of machine learning and artificial intelligence is nothing but statistical mathematics and linear algebra. Often you will encounter situations, especially in Data Science, where you have to read some research paper which involves a lot of maths in order to understand a particular topic and so if you want to get better at Data Science, it's imperative to have a strong mathematical understanding.\n",
        "\n",
        ">**Session Objective:** Upon successful completion of this session the participant will be able to simulate classical theoretical distributions in python\n",
        "\n",
        "\n",
        " This session is about commonly used probability distributions in machine learning literature. If you are a beginner, then this is the right place for you to get started.\n",
        " > Learning objectives:\n",
        "1. Learn about probability jargons like random variables, density curve, probability functions, etc.\n",
        "2. Learn about different probability distributions and their distribution functions along with some of their properties.\n",
        "3. Learn to create and plot these distributions in python.\n",
        "\n"
      ]
    },
    {
      "cell_type": "markdown",
      "metadata": {
        "id": "QL_d_WIFdLrU"
      },
      "source": [
        "#Role of Probability in Machine Learning\n",
        ">Probability is the bedrock of machine learning. You cannot develop a deep understanding and application of machine learning without it.\n",
        "\n",
        "## Corner pillers of Probability for Machine Learning\n",
        "\n",
        "- Probability distributions\n",
        "- random variables\n",
        "- Bayes Theorem\n",
        "- Bayesian Statistics"
      ]
    },
    {
      "cell_type": "markdown",
      "metadata": {
        "id": "BFuLbA5lfbVc"
      },
      "source": [
        "## Basic definitions\n",
        "\n",
        "1. **Probability** is a measure of uncertainity\n",
        "\n",
        "2. **Random Variable**\n",
        "A random variable is a variable whose possible values are numerical outcomes of a random phenomenon. There are two types of random variables, discrete and continuous.\n",
        "\n",
        "3. **Probability Distribution** is a mathematical representation that defines probability of an event following the given distribution"
      ]
    },
    {
      "cell_type": "markdown",
      "metadata": {
        "id": "KIjO9-aldzvS"
      },
      "source": [
        "## Implementing Basic probability distributions in Python\n",
        "As a transition from classical probability to computational probability, lets us implement important theoretical distributions in python"
      ]
    },
    {
      "cell_type": "markdown",
      "metadata": {
        "id": "3dQgKbE7gBlj"
      },
      "source": [
        "##Loading libraries for computational probability in python"
      ]
    },
    {
      "cell_type": "code",
      "metadata": {
        "id": "TRybhLFLgLqE"
      },
      "source": [
        "# for inline plots in jupyter\n",
        "%matplotlib inline\n",
        "# import matplotlib\n",
        "import matplotlib.pyplot as plt\n",
        "# for latex equations\n",
        "from IPython.display import Math, Latex\n",
        "# for displaying images\n",
        "from IPython.core.display import Image\n",
        "# import seaborn\n",
        "import seaborn as sns\n",
        "# settings for seaborn plotting style\n",
        "sns.set(color_codes=True)\n",
        "# settings for seaborn plot sizes\n",
        "sns.set(rc={'figure.figsize':(5,5)})"
      ],
      "execution_count": null,
      "outputs": []
    },
    {
      "cell_type": "markdown",
      "metadata": {
        "id": "4xP1Jhi3eEs7"
      },
      "source": [
        "### 1. Uniform Distribution\n",
        "Perhaps one of the simplest and useful distribution is the uniform distribution. The probability distribution function of the continuous uniform distribution is:\n",
        "\n",
        "$$f(x)=\\begin{cases}\\dfrac{1}{b-a};\\quad a\\leq x\\leq b\\\\ 0&;\\quad \\text{ otherwise}\\end{cases}$$\n",
        "\n",
        "Since any interval of numbers of equal width has an equal probability of being observed, the curve describing the distribution is a rectangle, with constant height across the interval and 0 height elsewhere. Since the area under the curve must be equal to 1, the length of the interval determines the height of the curve. The following figure shows a uniform distribution in interval (a,b). Notice since the area needs to be 1. The height is set to 1/(b−a).\n",
        "\n",
        "You can visualize uniform distribution in python with the help of a random number generator acting over an interval of numbers (a,b). You need to import the `uniform` function from `scipy.stats` module."
      ]
    },
    {
      "cell_type": "code",
      "metadata": {
        "id": "YKy1qf_zg7gT"
      },
      "source": [
        "# import uniform distribution\n",
        "from scipy.stats import uniform\n",
        "# random numbers from uniform distribution\n",
        "n = 10000\n",
        "start = 10\n",
        "width = 20\n",
        "data_uniform = uniform.rvs(size=n, loc = start, scale=width)"
      ],
      "execution_count": null,
      "outputs": []
    },
    {
      "cell_type": "code",
      "metadata": {
        "colab": {
          "base_uri": "https://localhost:8080/",
          "height": 411
        },
        "id": "qTfqMCVHhBWK",
        "outputId": "8c94aae5-03ee-49f3-e9f5-1cace52dacc2"
      },
      "source": [
        "ax = sns.distplot(data_uniform,\n",
        "                  bins=100,\n",
        "                  kde=True,\n",
        "                  color='skyblue',\n",
        "                  hist_kws={\"linewidth\": 15,'alpha':0.9})\n",
        "ax.set(xlabel='Uniform Distribution ', ylabel='Frequency')\n",
        "\n"
      ],
      "execution_count": null,
      "outputs": [
        {
          "output_type": "stream",
          "name": "stderr",
          "text": [
            "/usr/local/lib/python3.7/dist-packages/seaborn/distributions.py:2619: FutureWarning: `distplot` is a deprecated function and will be removed in a future version. Please adapt your code to use either `displot` (a figure-level function with similar flexibility) or `histplot` (an axes-level function for histograms).\n",
            "  warnings.warn(msg, FutureWarning)\n"
          ]
        },
        {
          "output_type": "execute_result",
          "data": {
            "text/plain": [
              "[Text(0, 0.5, 'Frequency'), Text(0.5, 0, 'Uniform Distribution ')]"
            ]
          },
          "metadata": {},
          "execution_count": 4
        },
        {
          "output_type": "display_data",
          "data": {
            "image/png": "[encoded data removed]",
            "text/plain": [
              "<Figure size 360x360 with 1 Axes>"
            ]
          },
          "metadata": {}
        }
      ]
    },
    {
      "cell_type": "markdown",
      "metadata": {
        "id": "XX7xqjzEhqfb"
      },
      "source": [
        "### 2. Normal Distribution\n",
        "Normal Distribution, also known as Gaussian distribution, is ubiquitous in Data Science. You will encounter it at many places especially in topics of statistical inference. It is one of the assumptions of many data science algorithms too.\n",
        "\n",
        "A normal distribution has a bell-shaped density curve described by its mean μ and standard deviation σ. The density curve is symmetrical, centered about its mean, with its spread determined by its standard deviation showing that data near the mean are more frequent in occurrence than data far from the mean. The probability distribution function of a normal density curve with mean μ and standard deviation σ at a given point x is given by:\n",
        "$$f(x)=\\dfrac{1}{\\sqrt{2\\pi}\\sigma}e^{-\\dfrac{(x-\\mu)^2}{2\\sigma^2}}$$\n",
        "\n",
        "Almost 68% of the data falls within a distance of one standard deviation from the mean on either side and 95% within two standard deviations. Also it worth mentioning that a distribution with mean 0 and standard deviation 1 is called a standard normal distribution.\n",
        "\n",
        "You can generate a normally distributed random variable using `scipy.stats` module's `norm.rvs()` method. The loc argument corresponds to the mean of the distribution. scale corresponds to standard deviation and size to the number of random variates. If you want to maintain reproducibility, include a `random_state` argument assigned to a number."
      ]
    },
    {
      "cell_type": "code",
      "metadata": {
        "colab": {
          "base_uri": "https://localhost:8080/",
          "height": 411
        },
        "id": "Aqd6tDoviMwC",
        "outputId": "f66569f0-efd1-4b9b-bb45-7e33f57b5a38"
      },
      "source": [
        "from scipy.stats import norm\n",
        "# generate random numbers from N(0,1)\n",
        "data_normal = norm.rvs(size=10000,loc=0,scale=1)\n",
        "ax = sns.distplot(data_normal,\n",
        "                  bins=100,\n",
        "                  kde=True,\n",
        "                  color='skyblue',\n",
        "                  hist_kws={\"linewidth\": 15,'alpha':1})\n",
        "ax.set(xlabel='Normal Distribution', ylabel='Frequency')"
      ],
      "execution_count": null,
      "outputs": [
        {
          "output_type": "stream",
          "name": "stderr",
          "text": [
            "/usr/local/lib/python3.7/dist-packages/seaborn/distributions.py:2619: FutureWarning: `distplot` is a deprecated function and will be removed in a future version. Please adapt your code to use either `displot` (a figure-level function with similar flexibility) or `histplot` (an axes-level function for histograms).\n",
            "  warnings.warn(msg, FutureWarning)\n"
          ]
        },
        {
          "output_type": "execute_result",
          "data": {
            "text/plain": [
              "[Text(0, 0.5, 'Frequency'), Text(0.5, 0, 'Normal Distribution')]"
            ]
          },
          "metadata": {},
          "execution_count": 8
        },
        {
          "output_type": "display_data",
          "data": {
            "image/png": "[encoded data removed]",
            "text/plain": [
              "<Figure size 360x360 with 1 Axes>"
            ]
          },
          "metadata": {}
        }
      ]
    },
    {
      "cell_type": "markdown",
      "metadata": {
        "id": "XzoPaZQmi1sJ"
      },
      "source": [
        "### 3. Exponential Distribution\n",
        "The exponential distribution describes the time between events in a Poisson point process, i.e., a process in which events occur continuously and independently at a constant average rate. It has a parameter λ called rate parameter, and its equation is described as :\n",
        "$$f(x,\\lambda)=\\begin{cases}\\lambda e^{-\\lambda x}&;\\quad x\\geq 0\\\\ 0&;\\quad \\text{otherwise}\\end{cases}$$\n",
        "\n",
        "You can generate an exponentially distributed random variable using `scipy.stats` module's `expon.rvs()` method which takes shape parameter `scale` as its argument which is nothing but $\\frac{1}{\\lambda}$ in the equation. To shift distribution use the `loc` argument, size decides the number of random variates in the distribution. If you want to maintain reproducibility, include a `random_state` argument assigned to a number."
      ]
    },
    {
      "cell_type": "code",
      "metadata": {
        "colab": {
          "base_uri": "https://localhost:8080/",
          "height": 411
        },
        "id": "ObO1yjjGiCsS",
        "outputId": "bdc8586c-8423-4b61-9eff-566811926ff6"
      },
      "source": [
        "from scipy.stats import expon\n",
        "data_expon = expon.rvs(scale=1,loc=0,size=1000)\n",
        "ax = sns.distplot(data_expon,\n",
        "                  kde=True,\n",
        "                  bins=100,\n",
        "                  color='skyblue',\n",
        "                  hist_kws={\"linewidth\": 15,'alpha':1})\n",
        "ax.set(xlabel='Exponential Distribution', ylabel='Frequency')"
      ],
      "execution_count": null,
      "outputs": [
        {
          "output_type": "stream",
          "name": "stderr",
          "text": [
            "/usr/local/lib/python3.7/dist-packages/seaborn/distributions.py:2619: FutureWarning: `distplot` is a deprecated function and will be removed in a future version. Please adapt your code to use either `displot` (a figure-level function with similar flexibility) or `histplot` (an axes-level function for histograms).\n",
            "  warnings.warn(msg, FutureWarning)\n"
          ]
        },
        {
          "output_type": "execute_result",
          "data": {
            "text/plain": [
              "[Text(0, 0.5, 'Frequency'), Text(0.5, 0, 'Exponential Distribution')]"
            ]
          },
          "metadata": {},
          "execution_count": 9
        },
        {
          "output_type": "display_data",
          "data": {
            "image/png": "[encoded data removed]",
            "text/plain": [
              "<Figure size 360x360 with 1 Axes>"
            ]
          },
          "metadata": {}
        }
      ]
    },
    {
      "cell_type": "markdown",
      "metadata": {
        "id": "N-9w0YSzjwIw"
      },
      "source": [
        "### 5. Poisson Distribution\n",
        "Poisson random variable is typically used to model the number of times an event happened in a time interval. For example, the number of users visited on a website in an interval can be thought of a Poisson process. Poisson distribution is described in terms of the rate (μ) at which the events happen. An event can occur 0, 1, 2, … times in an interval. The average number of events in an interval is designated λ (lambda). Lambda is the event rate, also called the rate parameter. The probability of observing k events in an interval is given by the equation:\n",
        "\n",
        "$$p(x)=\\dfrac{e^{-\\lambda} \\lambda ^x}{x!}$$\n",
        "\n",
        "You can generate a poisson distributed discrete random variable using `scipy.stats` module's `poisson.rvs()` method which takes μ as a shape parameter and is nothing but the λ in the equation. To shift distribution use the loc parameter. size decides the number of random variates in the distribution. If you want to maintain reproducibility, include a random_state argument assigned to a number."
      ]
    },
    {
      "cell_type": "code",
      "metadata": {
        "colab": {
          "base_uri": "https://localhost:8080/",
          "height": 411
        },
        "id": "1TRV763xkMj1",
        "outputId": "e0369976-8d44-41fc-ec84-c2574a8aac70"
      },
      "source": [
        "from scipy.stats import poisson\n",
        "data_poisson = poisson.rvs(mu=3, size=1000)\n",
        "ax = sns.distplot(data_poisson,\n",
        "                  bins=30,\n",
        "                  kde=True,\n",
        "                  color='skyblue',\n",
        "                  hist_kws={\"linewidth\": 15,'alpha':1})\n",
        "ax.set(xlabel='Poisson Distribution', ylabel='Frequency')"
      ],
      "execution_count": null,
      "outputs": [
        {
          "output_type": "stream",
          "name": "stderr",
          "text": [
            "/usr/local/lib/python3.7/dist-packages/seaborn/distributions.py:2619: FutureWarning: `distplot` is a deprecated function and will be removed in a future version. Please adapt your code to use either `displot` (a figure-level function with similar flexibility) or `histplot` (an axes-level function for histograms).\n",
            "  warnings.warn(msg, FutureWarning)\n"
          ]
        },
        {
          "output_type": "execute_result",
          "data": {
            "text/plain": [
              "[Text(0, 0.5, 'Frequency'), Text(0.5, 0, 'Poisson Distribution')]"
            ]
          },
          "metadata": {},
          "execution_count": 23
        },
        {
          "output_type": "display_data",
          "data": {
            "image/png": "[encoded data removed]",
            "text/plain": [
              "<Figure size 360x360 with 1 Axes>"
            ]
          },
          "metadata": {}
        }
      ]
    },
    {
      "cell_type": "markdown",
      "metadata": {
        "id": "8MwcN_yukkIX"
      },
      "source": [
        "### 4. Binomial Distribution\n",
        "A distribution where only two outcomes are possible, such as success or failure, gain or loss, win or lose and where the probability of success and failure is same for all the trials is called a Binomial Distribution. However, The outcomes need not be equally likely, and each trial is independent of each other. The parameters of a binomial distribution are n and p where n is the total number of trials, and p is the probability of success in each trial. Its probability distribution function is given by :\n",
        "\n",
        "$$p(x)=\\binom n x p^xq^{n-x}$$\n",
        "\n",
        "You can generate a binomial distributed discrete random variable using `scipy.stats` module's `binom.rvs()` method which takes n (number of trials) and p (probability of success) as shape parameters. To shift distribution use the `loc` parameter. size decides the number of times to repeat the trials. If you want to maintain reproducibility, include a `random_state` argument assigned to a number."
      ]
    },
    {
      "cell_type": "code",
      "metadata": {
        "colab": {
          "base_uri": "https://localhost:8080/",
          "height": 411
        },
        "id": "eOpMjmbXlAXX",
        "outputId": "6c20b976-4335-4445-beb4-46c81cb56204"
      },
      "source": [
        "from scipy.stats import binom\n",
        "data_binom = binom.rvs(n=10,p=0.8,size=1000)\n",
        "ax = sns.distplot(data_binom,\n",
        "                  kde=False,\n",
        "                  color='skyblue',\n",
        "                  hist_kws={\"linewidth\": 15,'alpha':1})\n",
        "ax.set(xlabel='Binomial Distribution', ylabel='Frequency')"
      ],
      "execution_count": null,
      "outputs": [
        {
          "output_type": "stream",
          "name": "stderr",
          "text": [
            "/usr/local/lib/python3.7/dist-packages/seaborn/distributions.py:2619: FutureWarning: `distplot` is a deprecated function and will be removed in a future version. Please adapt your code to use either `displot` (a figure-level function with similar flexibility) or `histplot` (an axes-level function for histograms).\n",
            "  warnings.warn(msg, FutureWarning)\n"
          ]
        },
        {
          "output_type": "execute_result",
          "data": {
            "text/plain": [
              "[Text(0, 0.5, 'Frequency'), Text(0.5, 0, 'Binomial Distribution')]"
            ]
          },
          "metadata": {},
          "execution_count": 19
        },
        {
          "output_type": "display_data",
          "data": {
            "image/png": "[encoded data removed]",
            "text/plain": [
              "<Figure size 360x360 with 1 Axes>"
            ]
          },
          "metadata": {}
        }
      ]
    },
    {
      "cell_type": "markdown",
      "metadata": {
        "id": "Nmcq1aaClf2f"
      },
      "source": [
        "### 6. Bernoulli Distribution\n",
        "A Bernoulli distribution has only two possible outcomes, namely 1 (success) and 0 (failure), and a single trial, for example, a coin toss. So the random variable X which has a Bernoulli distribution can take value 1 with the probability of success, p, and the value 0 with the probability of failure, q or 1−p. The probabilities of success and failure need not be equally likely. The Bernoulli distribution is a special case of the binomial distribution where a single trial is conducted (n=1). Its probability mass function is given by:\n",
        "\n",
        "$$f(x,k)=p^kq^{1-k}\\quad ; k\\in \\{0,1\\}$$\n",
        "\n",
        "\n",
        "You can generate a bernoulli distributed discrete random variable using `scipy.stats` module's `bernoulli.rvs()` method which takes p (probability of success) as a shape parameter. To shift distribution use the `loc` parameter. `size` decides the number of times to repeat the trials. If you want to maintain reproducibility, include a random_state argument assigned to a number.\n",
        "\n"
      ]
    },
    {
      "cell_type": "code",
      "metadata": {
        "colab": {
          "base_uri": "https://localhost:8080/",
          "height": 411
        },
        "id": "8EN5K3M-l23X",
        "outputId": "a766533b-2fa8-4096-8822-5a424d507a86"
      },
      "source": [
        "from scipy.stats import bernoulli\n",
        "data_bern = bernoulli.rvs(size=10000,p=0.6)\n",
        "ax= sns.distplot(data_bern,\n",
        "                 kde=False,\n",
        "                 color=\"skyblue\",\n",
        "                 hist_kws={\"linewidth\": 15,'alpha':1})\n",
        "ax.set(xlabel='Bernoulli Distribution', ylabel='Frequency')"
      ],
      "execution_count": null,
      "outputs": [
        {
          "output_type": "stream",
          "name": "stderr",
          "text": [
            "/usr/local/lib/python3.7/dist-packages/seaborn/distributions.py:2619: FutureWarning: `distplot` is a deprecated function and will be removed in a future version. Please adapt your code to use either `displot` (a figure-level function with similar flexibility) or `histplot` (an axes-level function for histograms).\n",
            "  warnings.warn(msg, FutureWarning)\n"
          ]
        },
        {
          "output_type": "execute_result",
          "data": {
            "text/plain": [
              "[Text(0, 0.5, 'Frequency'), Text(0.5, 0, 'Bernoulli Distribution')]"
            ]
          },
          "metadata": {},
          "execution_count": 24
        },
        {
          "output_type": "display_data",
          "data": {
            "image/png": "[encoded data removed]",
            "text/plain": [
              "<Figure size 360x360 with 1 Axes>"
            ]
          },
          "metadata": {}
        }
      ]
    },
    {
      "cell_type": "markdown",
      "metadata": {
        "id": "jwtfxtzeCS-C"
      },
      "source": [
        "## Calculating probability density at fixed points "
      ]
    },
    {
      "cell_type": "markdown",
      "metadata": {
        "id": "6NqP2MZeCaYy"
      },
      "source": [
        "### 1. Binomial distribution"
      ]
    },
    {
      "cell_type": "code",
      "metadata": {
        "colab": {
          "base_uri": "https://localhost:8080/"
        },
        "id": "wRCQsoADCdSq",
        "outputId": "3b7252fc-27e4-44d3-b81f-48b87b6b45c5"
      },
      "source": [
        "#from scipy.stats import binom\n",
        "# setting the values\n",
        "# of n and p\n",
        "n = 6\n",
        "p = 0.6\n",
        "# defining the list of r values\n",
        "r_values = list(range(n + 1))\n",
        "# obtaining the mean and variance \n",
        "mean, var = binom.stats(n, p)\n",
        "# list of pmf values\n",
        "dist = [binom.pmf(r, n, p) for r in r_values ]\n",
        "# printing the table\n",
        "print(\"r\\tp(r)\")\n",
        "for i in range(n + 1):\n",
        "    print(str(r_values[i]) + \"\\t\" + str(dist[i]))\n",
        "# printing mean and variance\n",
        "print(\"mean = \"+str(mean))\n",
        "print(\"variance = \"+str(var))"
      ],
      "execution_count": null,
      "outputs": [
        {
          "output_type": "stream",
          "name": "stdout",
          "text": [
            "r\tp(r)\n",
            "0\t0.004096000000000002\n",
            "1\t0.03686400000000005\n",
            "2\t0.13824000000000003\n",
            "3\t0.2764800000000001\n",
            "4\t0.31104\n",
            "5\t0.18662400000000007\n",
            "6\t0.04665599999999999\n",
            "mean = 3.5999999999999996\n",
            "variance = 1.44\n"
          ]
        }
      ]
    },
    {
      "cell_type": "markdown",
      "metadata": {
        "id": "81n188PICeQS"
      },
      "source": [
        "### Plotting the distribution with density"
      ]
    },
    {
      "cell_type": "code",
      "metadata": {
        "colab": {
          "base_uri": "https://localhost:8080/",
          "height": 322
        },
        "id": "NbRj8QA7CmCh",
        "outputId": "37bf8b88-c0df-46a8-b4f4-7c8a75a5f35d"
      },
      "source": [
        "from scipy.stats import binom\n",
        "import matplotlib.pyplot as plt\n",
        "# setting the values\n",
        "# of n and p\n",
        "n = 6\n",
        "p = 0.6\n",
        "# defining list of r values\n",
        "r_values = list(range(n + 1))\n",
        "# list of pmf values\n",
        "dist = [binom.pmf(r, n, p) for r in r_values ]\n",
        "# plotting the graph \n",
        "plt.bar(r_values, dist)\n",
        "plt.show()"
      ],
      "execution_count": null,
      "outputs": [
        {
          "output_type": "display_data",
          "data": {
            "image/png": "[encoded data removed]",
            "text/plain": [
              "<Figure size 360x360 with 1 Axes>"
            ]
          },
          "metadata": {}
        }
      ]
    },
    {
      "cell_type": "markdown",
      "source": [
        "> Probability for winning a game is 0.3. If John play the game 25 times, what will be the chance that he will win the game atleast 7 times."
      ],
      "metadata": {
        "id": "IsoSntgejz2h"
      }
    },
    {
      "cell_type": "code",
      "source": [
        "from scipy.stats import binom\n",
        "p=0.3\n",
        "k=6\n",
        "n=25\n",
        "prob_L7=binom.cdf(k=k,n=n,p=p)\n",
        "print(\"chance for at least 7 win :\",(1-prob_L7)*100)"
      ],
      "metadata": {
        "colab": {
          "base_uri": "https://localhost:8080/"
        },
        "id": "H3NTua6gkH55",
        "outputId": "10c5cee0-c93f-4de7-f85b-2eaf1e06e3a5"
      },
      "execution_count": null,
      "outputs": [
        {
          "output_type": "stream",
          "name": "stdout",
          "text": [
            "chance for at least 7 win : 65.9345095720608\n"
          ]
        }
      ]
    },
    {
      "cell_type": "code",
      "source": [
        "8/9"
      ],
      "metadata": {
        "colab": {
          "base_uri": "https://localhost:8080/"
        },
        "id": "MuAl6Lywpewg",
        "outputId": "ec32d27d-be67-49a3-c310-54994bd5b6fa"
      },
      "execution_count": null,
      "outputs": [
        {
          "output_type": "execute_result",
          "data": {
            "text/plain": [
              "0.8888888888888888"
            ]
          },
          "metadata": {},
          "execution_count": 29
        }
      ]
    },
    {
      "cell_type": "code",
      "source": [
        "binom.pmf(k=3,n=6,p=8/9)"
      ],
      "metadata": {
        "colab": {
          "base_uri": "https://localhost:8080/"
        },
        "id": "8-PGOPTapWjx",
        "outputId": "8227ae58-51d8-4b63-8eac-4a2ce2ec1c87"
      },
      "execution_count": null,
      "outputs": [
        {
          "output_type": "execute_result",
          "data": {
            "text/plain": [
              "0.019268366573147365"
            ]
          },
          "metadata": {},
          "execution_count": 34
        }
      ]
    },
    {
      "cell_type": "markdown",
      "source": [
        "### 1. Poisson distribution"
      ],
      "metadata": {
        "id": "gm-yJskNXx3J"
      }
    },
    {
      "cell_type": "code",
      "source": [
        "from scipy.stats import poisson\n",
        "# setting the values\n",
        "# of n and p\n",
        "n = 6\n",
        "mu = 2\n",
        "# defining the list of r values\n",
        "r_values = list(range(n + 1))\n",
        "# obtaining the mean and variance \n",
        "mean, var = poisson.stats(n, mu)\n",
        "# list of pmf values\n",
        "dist = [poisson.pmf(k, n, mu) for k in r_values ]\n",
        "# printing the table\n",
        "print(\"k\\tp(k)\")\n",
        "for i in range(n + 1):\n",
        "    print(str(r_values[i]) + \"\\t\" + str(dist[i]))\n",
        "# printing mean and variance\n",
        "print(\"mean = \"+str(mean))\n",
        "print(\"variance = \"+str(var))"
      ],
      "metadata": {
        "colab": {
          "base_uri": "https://localhost:8080/"
        },
        "id": "kjRJdg-AX4q3",
        "outputId": "846bb6ba-abe8-4b19-f778-6c41c03d24b5"
      },
      "execution_count": null,
      "outputs": [
        {
          "output_type": "stream",
          "name": "stdout",
          "text": [
            "k\tp(k)\n",
            "0\t0.0\n",
            "1\t0.0\n",
            "2\t0.0024787521766663585\n",
            "3\t0.014872513059998144\n",
            "4\t0.04461753917999444\n",
            "5\t0.08923507835998894\n",
            "6\t0.13385261753998332\n",
            "mean = 8.0\n",
            "variance = 6.0\n"
          ]
        }
      ]
    },
    {
      "cell_type": "code",
      "source": [
        "poisson.cdf(k=5,     # Check the probability of 5 arrivals or less\n",
        "                  mu=10)   # With arrival rate 10"
      ],
      "metadata": {
        "colab": {
          "base_uri": "https://localhost:8080/"
        },
        "id": "f1oX6RONYsVR",
        "outputId": "24a04472-1c0d-4a5d-9b19-3fb88c6a16e6"
      },
      "execution_count": null,
      "outputs": [
        {
          "output_type": "execute_result",
          "data": {
            "text/plain": [
              "0.06708596287903189"
            ]
          },
          "metadata": {},
          "execution_count": 26
        }
      ]
    },
    {
      "cell_type": "markdown",
      "source": [
        "> If in a Covid vaccination center the average arrival rate is 10 person per hour. If the arrival rate exceeds 17 per hour, the authorities will start a second counter. What is the chance for a second counter under this situation."
      ],
      "metadata": {
        "id": "hq18cPhmgNBo"
      }
    },
    {
      "cell_type": "code",
      "source": [
        "prob_L17=poisson.cdf(k=17,     # Check the probability of 17 arrivals or less\n",
        "                  mu=10)   # With arrival rate 10\n",
        "chance_for_second_counter=(1-prob_L17)*100\n",
        "print(\"CHANCE FOR SECOND COUNTER IS :\",round(chance_for_second_counter,2),\"%\")          \n"
      ],
      "metadata": {
        "colab": {
          "base_uri": "https://localhost:8080/"
        },
        "id": "3epCznqbgvcR",
        "outputId": "b86bb72a-f55e-4ee1-8513-2b8e466e3dd8"
      },
      "execution_count": null,
      "outputs": [
        {
          "output_type": "stream",
          "name": "stdout",
          "text": [
            "CHANCE FOR SECOND COUNTER IS : 1.43 %\n"
          ]
        }
      ]
    },
    {
      "cell_type": "markdown",
      "source": [
        "### 3. Geometric distribution\n",
        "\n",
        "The geometric distribution is discrete and models the number of trials it takes to achieve a success in repeated experiments with a given probability of success. \n",
        "\n",
        "Let's use the `geom` functions to model the number of trials it takes to get a success (heads) when flipping a fair coin."
      ],
      "metadata": {
        "id": "BZ_CZvzkaHVZ"
      }
    },
    {
      "cell_type": "code",
      "source": [
        "import random\n",
        "import pandas as pd\n",
        "random.seed(12)\n",
        "from scipy.stats import geom\n",
        "flips_till_heads = geom.rvs(size=10000,  # Generate geometric data\n",
        "                                  p=0.5)       # With success prob 0.5\n",
        "# Print table of counts\n",
        "print( pd.crosstab(index=\"counts\", columns= flips_till_heads))\n",
        "\n",
        "# Plot histogram\n",
        "pd.DataFrame(flips_till_heads).hist(range=(-0.5,max(flips_till_heads)+0.5)\n",
        "                                    , bins=max(flips_till_heads)+1);"
      ],
      "metadata": {
        "colab": {
          "base_uri": "https://localhost:8080/",
          "height": 390
        },
        "id": "KtJbEFm7bZmA",
        "outputId": "8388f97a-e6f3-4b2c-ae8e-8069aa596878"
      },
      "execution_count": null,
      "outputs": [
        {
          "output_type": "stream",
          "name": "stdout",
          "text": [
            "col_0     1     2     3    4    5    6   7   8   9   10  11  12  13  14\n",
            "row_0                                                                  \n",
            "counts  4958  2434  1314  627  335  171  81  44  20   9   4   1   1   1\n"
          ]
        },
        {
          "output_type": "display_data",
          "data": {
            "image/png": "[encoded data removed]",
            "text/plain": [
              "<Figure size 360x360 with 1 Axes>"
            ]
          },
          "metadata": {}
        }
      ]
    },
    {
      "cell_type": "markdown",
      "source": [
        "The distribution looks similar to what we'd expect: it is very likely to get a heads in 1 or 2 flips, while it is very unlikely for it to take more than 5 flips to get a heads. In the 10,000 trails we generated, the longest it took to get a heads was 13 flips.\n",
        "\n",
        "Let's use `cdf()` to check the probability of needing 6 flips or more to get a success:"
      ],
      "metadata": {
        "id": "-485zLsZcFqH"
      }
    },
    {
      "cell_type": "code",
      "source": [
        "first_five = geom.cdf(k=5,   # Prob of success in first 5 flips\n",
        "                           p=0.5)\n",
        "\n",
        "1 - first_five"
      ],
      "metadata": {
        "colab": {
          "base_uri": "https://localhost:8080/"
        },
        "id": "zkYKhnD7cMno",
        "outputId": "c4399d26-6bda-434e-e064-caf7ef7727f9"
      },
      "execution_count": null,
      "outputs": [
        {
          "output_type": "execute_result",
          "data": {
            "text/plain": [
              "0.03125"
            ]
          },
          "metadata": {},
          "execution_count": 29
        }
      ]
    },
    {
      "cell_type": "markdown",
      "source": [
        "Use `pmf()` to check the probability of seeing a specific number of flips before a successes:"
      ],
      "metadata": {
        "id": "VNp8OiMIcuPo"
      }
    },
    {
      "cell_type": "code",
      "source": [
        "geom.pmf(k=3,   # Prob of needing exactly 2 flips to get first success\n",
        "              p=0.5)"
      ],
      "metadata": {
        "colab": {
          "base_uri": "https://localhost:8080/"
        },
        "id": "VXbf1GgEcv1Q",
        "outputId": "0f335a58-e2aa-4ab4-bf11-fd836e079cac"
      },
      "execution_count": null,
      "outputs": [
        {
          "output_type": "execute_result",
          "data": {
            "text/plain": [
              "0.125"
            ]
          },
          "metadata": {},
          "execution_count": 41
        }
      ]
    },
    {
      "cell_type": "markdown",
      "source": [
        "### 4. Exponential distribution\n",
        "\n",
        "The exponential distribution is a continuous analog of the geometric distribution and models the amount of time you have to wait before an event occurs given a certain occurrence rate.\n",
        ">Note: The average arrival time for the exponential distribution is equal to 1/arrival_rate.\n",
        "\n",
        "\n",
        "\n",
        "> Find the probability that waiting time exceeds 3 minute for getting a bus service with average inter-arrival time 1 minute. Plot this exponential distribution.\n"
      ],
      "metadata": {
        "id": "SSheG4o8c8zR"
      }
    },
    {
      "cell_type": "code",
      "source": [
        "# Get the probability of waiting more than 3 time unit before a success\n",
        "from scipy.stats import expon\n",
        "prob_3 = expon.cdf(x=3,        \n",
        "                         scale=1)  # Arrival rate\n",
        "\n",
        "1 - prob_3"
      ],
      "metadata": {
        "colab": {
          "base_uri": "https://localhost:8080/"
        },
        "id": "InnEF_ageVpp",
        "outputId": "fcf22217-c4fa-4ceb-fcf0-62296778801d"
      },
      "execution_count": null,
      "outputs": [
        {
          "output_type": "execute_result",
          "data": {
            "text/plain": [
              "0.04978706836786395"
            ]
          },
          "metadata": {},
          "execution_count": 43
        }
      ]
    },
    {
      "cell_type": "code",
      "source": [
        "import numpy as np\n",
        "import matplotlib.pyplot as plt\n",
        "plt.fill_between(x=np.arange(0,3,0.01), \n",
        "                 y1= expon.pdf(np.arange(0,3,0.01)) ,\n",
        "                 facecolor='blue',\n",
        "                 alpha=0.35)\n",
        "\n",
        "plt.fill_between(x=np.arange(3,7,0.01), \n",
        "                 y1= expon.pdf(np.arange(3,7,0.01)) ,\n",
        "                 facecolor='red',\n",
        "                 alpha=0.35)\n",
        "\n",
        "\n",
        "plt.text(x=0.3, y=0.2, s= round(prob_3,3))\n",
        "plt.text(x=3.1, y=0.02, s= round(1 - prob_3,3));"
      ],
      "metadata": {
        "colab": {
          "base_uri": "https://localhost:8080/",
          "height": 322
        },
        "id": "kfGr7pLoen7w",
        "outputId": "ff65a7d3-4bef-4acd-c51b-2c3bdbfced18"
      },
      "execution_count": null,
      "outputs": [
        {
          "output_type": "display_data",
          "data": {
            "image/png": "[encoded data removed]",
            "text/plain": [
              "<Figure size 360x360 with 1 Axes>"
            ]
          },
          "metadata": {}
        }
      ]
    },
    {
      "cell_type": "markdown",
      "source": [
        ">Find the probability that waiting time is greater than 5 minutes, if the service mechanism has an average inter arrival time 3 minutes."
      ],
      "metadata": {
        "id": "014Fj6X5fXII"
      }
    },
    {
      "cell_type": "code",
      "source": [
        "scale=1/3\n",
        "prob_L5 = expon.cdf(x=5,        \n",
        "                         scale=scale)  # Arrival rate\n",
        "1-prob_L5                         "
      ],
      "metadata": {
        "colab": {
          "base_uri": "https://localhost:8080/"
        },
        "id": "SOyr3r0iflzx",
        "outputId": "95f5f7d1-a8d4-42b9-a0d9-ef2c4e330b52"
      },
      "execution_count": null,
      "outputs": [
        {
          "output_type": "execute_result",
          "data": {
            "text/plain": [
              "3.059023204743383e-07"
            ]
          },
          "metadata": {},
          "execution_count": 45
        }
      ]
    },
    {
      "cell_type": "markdown",
      "source": [
        "### 5. Uniform distribution\n",
        "\n",
        "> In a Car hiring company the hiring are found to be uniformally distributed between 2 and 9 calls per day. Find\n",
        "\n",
        "1. The chance for getting atleast 3 calls per day\n",
        "2. The chance for a getting atmost 7 calls per day\n",
        "3. If the number of calls exceeds 12, the company is ready to open a new office in the most required location. Suggest a statistically valid option for this plan.\n",
        "4. If there are 20 % chance for a call in a day, then how many calls do you expect that day?"
      ],
      "metadata": {
        "id": "sPEWm2colfLx"
      }
    },
    {
      "cell_type": "code",
      "source": [
        "from scipy.stats import uniform\n",
        "start=2\n",
        "end=9\n",
        "prob_M3=1-uniform.cdf(3,loc=start,scale=end)\n",
        "prob_atmost_7=uniform.cdf(7,loc=start,scale=end)\n",
        "prob_new_office=1-uniform.cdf(12,loc=start,scale=end)\n",
        "no_of_calls=uniform.ppf(q=0.2,loc=2,scale=9)\n",
        "exact_2=uniform.pdf(2,loc=start,scale=end)"
      ],
      "metadata": {
        "id": "0IYAaHGHmo9Z"
      },
      "execution_count": null,
      "outputs": []
    },
    {
      "cell_type": "code",
      "source": [
        "print(\"Number of call for cars:\",round(no_of_calls,0))"
      ],
      "metadata": {
        "colab": {
          "base_uri": "https://localhost:8080/"
        },
        "id": "8akX9c7DoNSR",
        "outputId": "12e62f01-fb26-4665-e09b-8eed47d40701"
      },
      "execution_count": null,
      "outputs": [
        {
          "output_type": "stream",
          "name": "stdout",
          "text": [
            "No call for cars: 4.0\n"
          ]
        }
      ]
    },
    {
      "cell_type": "code",
      "source": [
        "print(exact_2)"
      ],
      "metadata": {
        "colab": {
          "base_uri": "https://localhost:8080/"
        },
        "id": "NuCJWIw_omMQ",
        "outputId": "70bc24db-5259-4685-b632-95cf4a17c507"
      },
      "execution_count": null,
      "outputs": [
        {
          "output_type": "stream",
          "name": "stdout",
          "text": [
            "0.1111111111111111\n"
          ]
        }
      ]
    },
    {
      "cell_type": "markdown",
      "source": [
        "### 6.Normal distribution"
      ],
      "metadata": {
        "id": "Y-w7cXRlUsQ_"
      }
    },
    {
      "cell_type": "markdown",
      "source": [
        ">Find the probability density at $x=-1$ of $N(0,1)$."
      ],
      "metadata": {
        "id": "A3sV9dZ6Uv2P"
      }
    },
    {
      "cell_type": "code",
      "source": [
        "from scipy.stats import norm\n",
        "norm.pdf(x= -1, loc = 0,scale= 1)  "
      ],
      "metadata": {
        "colab": {
          "base_uri": "https://localhost:8080/"
        },
        "id": "k5AF9j2GU4Vv",
        "outputId": "724534ab-b964-40e8-80fd-aab4ef67da18"
      },
      "execution_count": null,
      "outputs": [
        {
          "output_type": "execute_result",
          "data": {
            "text/plain": [
              "0.24197072451914337"
            ]
          },
          "metadata": {},
          "execution_count": 37
        }
      ]
    },
    {
      "cell_type": "code",
      "source": [
        "norm.cdf(x= 14, loc = 12,scale=3)-norm.cdf(x= 10, loc = 12,scale=3)"
      ],
      "metadata": {
        "colab": {
          "base_uri": "https://localhost:8080/"
        },
        "id": "XYkuGsMg4YEZ",
        "outputId": "cd0ea8b2-b679-455c-dd65-47cb583388c9"
      },
      "execution_count": null,
      "outputs": [
        {
          "output_type": "execute_result",
          "data": {
            "text/plain": [
              "0.4950149249061542"
            ]
          },
          "metadata": {},
          "execution_count": 49
        }
      ]
    },
    {
      "cell_type": "markdown",
      "source": [
        "> plot the area under normal standard normal distribution with -1 and 1 as cut-off points"
      ],
      "metadata": {
        "id": "Vfutg_QNVlU_"
      }
    },
    {
      "cell_type": "code",
      "source": [
        "\n",
        "#calculating cumulative probabilities\n",
        "prob_under_minus1 = norm.cdf(x= -1,  \n",
        "                                loc = 0,               \n",
        "                                scale= 1)     \n",
        "\n",
        "prob_over_1 = 1 - norm.cdf(x= 1,  \n",
        "                                loc = 0,               \n",
        "                                scale= 1) \n",
        "\n",
        "between_prob = 1-(prob_under_minus1+prob_over_1)\n",
        "\n",
        "print(prob_under_minus1, prob_over_1, between_prob)"
      ],
      "metadata": {
        "colab": {
          "base_uri": "https://localhost:8080/"
        },
        "id": "OUbilN4BV2Ef",
        "outputId": "84c28627-a8e9-47af-c3f4-321d36361cc1"
      },
      "execution_count": null,
      "outputs": [
        {
          "output_type": "stream",
          "name": "stdout",
          "text": [
            "0.15865525393145707 0.15865525393145707 0.6826894921370859\n"
          ]
        }
      ]
    },
    {
      "cell_type": "code",
      "source": [
        "plt.rcParams[\"figure.figsize\"] = (9,9)\n",
        "                                  \n",
        "plt.fill_between(x=np.arange(-4,-1,0.01), \n",
        "                 y1= norm.pdf(np.arange(-4,-1,0.01)) ,\n",
        "                 facecolor='red',\n",
        "                 alpha=0.35)\n",
        "\n",
        "plt.fill_between(x=np.arange(1,4,0.01), \n",
        "                 y1= norm.pdf(np.arange(1,4,0.01)) ,\n",
        "                 facecolor='red',\n",
        "                 alpha=0.35)\n",
        "\n",
        "plt.fill_between(x=np.arange(-1,1,0.01), \n",
        "                 y1= norm.pdf(np.arange(-1,1,0.01)) ,\n",
        "                 facecolor='blue',\n",
        "                 alpha=0.35)\n",
        "\n",
        "plt.text(x=-1.8, y=0.03, s= round(prob_under_minus1,3))\n",
        "plt.text(x=-0.2, y=0.1, s= round(between_prob,3))\n",
        "plt.text(x=1.4, y=0.03, s= round(prob_over_1,3));"
      ],
      "metadata": {
        "colab": {
          "base_uri": "https://localhost:8080/",
          "height": 540
        },
        "id": "bj9NSoYeVwN3",
        "outputId": "bdaa95fa-98e4-4a1d-e8a8-ceaf8a7c55c5"
      },
      "execution_count": null,
      "outputs": [
        {
          "output_type": "display_data",
          "data": {
            "image/png": "[encoded data removed]",
            "text/plain": [
              "<Figure size 648x648 with 1 Axes>"
            ]
          },
          "metadata": {}
        }
      ]
    },
    {
      "cell_type": "markdown",
      "source": [
        "> Find the critical limits of $N(0,1)$ with area 0.025 on both tails"
      ],
      "metadata": {
        "id": "nKAvqFlHWc-P"
      }
    },
    {
      "cell_type": "code",
      "source": [
        "print(norm.ppf(q=0.025) ) # Find the quantile for the 2.5% cutoff\n",
        "\n",
        "print(norm.ppf(q=0.975) ) # Find the quantile for the 97.5% cutoff"
      ],
      "metadata": {
        "colab": {
          "base_uri": "https://localhost:8080/"
        },
        "id": "ihxnb3RAWmyf",
        "outputId": "0fab9378-a4db-452d-b838-5375b76caed7"
      },
      "execution_count": null,
      "outputs": [
        {
          "output_type": "stream",
          "name": "stdout",
          "text": [
            "-1.9599639845400545\n",
            "1.959963984540054\n"
          ]
        }
      ]
    },
    {
      "cell_type": "markdown",
      "source": [
        ">The scores of GATE examination is normally distributed with mean 45 and standard deviation 13. The Gov. is decided to give scholarships to the only top 5% of the GATE holders. Find the cut-off mark."
      ],
      "metadata": {
        "id": "K04-xrGpW1fX"
      }
    },
    {
      "cell_type": "code",
      "source": [
        "print(norm.ppf(q=0.95,loc=45,scale=13))"
      ],
      "metadata": {
        "colab": {
          "base_uri": "https://localhost:8080/"
        },
        "id": "J6BiivuxXZy3",
        "outputId": "83594d00-8c75-4ae5-c864-4967081a6193"
      },
      "execution_count": null,
      "outputs": [
        {
          "output_type": "stream",
          "name": "stdout",
          "text": [
            "66.38309715036914\n"
          ]
        }
      ]
    },
    {
      "cell_type": "markdown",
      "source": [
        ">"
      ],
      "metadata": {
        "id": "LU_bvnVycHJ2"
      }
    }
  ]
}